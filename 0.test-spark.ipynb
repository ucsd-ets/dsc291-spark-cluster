{
 "cells": [
  {
   "cell_type": "markdown",
   "id": "amber-meeting",
   "metadata": {},
   "source": [
    "# Using Spark for the first time \n",
    "In this notebook, you will run Spark as a remote server.\n",
    "Before running the notebook, read the directions in 'Start Spark Cluster on Datahub.pdf'"
   ]
  },
  {
   "cell_type": "code",
   "execution_count": 2,
   "id": "engaged-tenant",
   "metadata": {},
   "outputs": [
    {
     "ename": "NameError",
     "evalue": "name 'sc' is not defined",
     "output_type": "error",
     "traceback": [
      "\u001b[0;31m---------------------------------------------------------------------------\u001b[0m",
      "\u001b[0;31mNameError\u001b[0m                                 Traceback (most recent call last)",
      "\u001b[0;32m<ipython-input-2-3d73a71fb7b6>\u001b[0m in \u001b[0;36m<module>\u001b[0;34m\u001b[0m\n\u001b[0;32m----> 1\u001b[0;31m \u001b[0msc\u001b[0m\u001b[0;34m.\u001b[0m\u001b[0mstop\u001b[0m\u001b[0;34m(\u001b[0m\u001b[0;34m)\u001b[0m \u001b[0;31m# use this line if you get the error \"only one SparkContext at a time\"\u001b[0m\u001b[0;34m\u001b[0m\u001b[0;34m\u001b[0m\u001b[0m\n\u001b[0m",
      "\u001b[0;31mNameError\u001b[0m: name 'sc' is not defined"
     ]
    }
   ],
   "source": [
    "# sc.stop() # use this line if you get the error \"only one SparkContext at a time\""
   ]
  },
  {
   "cell_type": "code",
   "execution_count": 5,
   "id": "referenced-grounds",
   "metadata": {},
   "outputs": [],
   "source": [
    "import pyspark\n",
    "from pyspark import SparkContext\n",
    "from lib import sparkConfig\n",
    "\n",
    "sc = SparkContext(conf=sparkConfig.conf)"
   ]
  },
  {
   "cell_type": "markdown",
   "id": "anticipated-worship",
   "metadata": {},
   "source": [
    "### A simple script to test whether spark works (using a server)\n",
    "First, we load the fondiguration and start a spark context"
   ]
  },
  {
   "cell_type": "markdown",
   "id": "brown-masters",
   "metadata": {},
   "source": [
    "Second, we create an RDD of odd numbers, then take a small sample from it."
   ]
  },
  {
   "cell_type": "code",
   "execution_count": 8,
   "id": "characteristic-daily",
   "metadata": {},
   "outputs": [
    {
     "data": {
      "text/plain": [
       "[1449, 3451, 3495, 3877, 7041, 9003, 9635]"
      ]
     },
     "execution_count": 8,
     "metadata": {},
     "output_type": "execute_result"
    }
   ],
   "source": [
    "big_list = range(10000)\n",
    "rdd = sc.parallelize(big_list, 2)\n",
    "odds = rdd.filter(lambda x: x % 2 != 0)\n",
    "odds.sample(True,0.001).collect()"
   ]
  },
  {
   "cell_type": "code",
   "execution_count": 6,
   "id": "baking-entertainment",
   "metadata": {},
   "outputs": [
    {
     "name": "stdout",
     "output_type": "stream",
     "text": [
      "/srv/nbgrader/DSC291_SP21_A00\n"
     ]
    }
   ],
   "source": [
    "%cd ~"
   ]
  },
  {
   "cell_type": "markdown",
   "id": "df06bddb",
   "metadata": {},
   "source": [
    "# cluster-manager-secrets.sh\n",
    "\n",
    "When using this file, save the secret outputted by the `./cluster-manager.sh create` script\n",
    "\n",
    "```bash\n",
    "=> Spark secret, pass to your group = 9hqhOcC2Cn8WY5s3shqU\n",
    "```"
   ]
  },
  {
   "cell_type": "code",
   "execution_count": null,
   "id": "iraqi-senegal",
   "metadata": {},
   "outputs": [],
   "source": [
    "# connect to your password secured cluster\n",
    "def set_spark_config(leader_name: str, secret: str):\n",
    "    import os\n",
    "    import pyspark\n",
    "    from pyspark import SparkContext\n",
    "    def get_local_ip():\n",
    "        import socket\n",
    "        s = socket.socket(socket.AF_INET, socket.SOCK_DGRAM)\n",
    "        s.connect((\"8.8.8.8\", 80))\n",
    "        ip = s.getsockname()[0]\n",
    "        s.close()\n",
    "        return ip\n",
    "    driver_host = get_local_ip()\n",
    "    os.environ['SPARK_LOCAL_IP']= driver_host #driver_host\n",
    "    os.environ['JAVA_HOME'] = '/usr'\n",
    "    conf = pyspark.SparkConf()\n",
    "    conf.setAppName(\"spark test\")\n",
    "    conf.setMaster(f'spark://spark-master.{leader_name}.svc.cluster.local:7077')\n",
    "    conf.set(\"spark.blockmanager.port\", \"50002\")\n",
    "    conf.set(\"spark.driver.bindAddress\", driver_host)\n",
    "    conf.set(\"spark.driver.host\", driver_host)\n",
    "    conf.set(\"spark.driver.port\", \"50500\")\n",
    "    conf.set(\"spark.cores.max\", \"2\")\n",
    "    conf.set(\"spark.executor.memory\", \"512m\")\n",
    "    conf.set(\"spark.authenticate\", True)\n",
    "    conf.set(\"spark.authenticate.secret\", secret)\n",
    "    conf.set('spark.authenticate.enableSaslEncryption', True)\n",
    "    sc = SparkContext(conf=conf)\n",
    "    return sc\n",
    "\n",
    "sc = set_spark_config('wuykimpang', '9hqhOcC2Cn8WY5s3shqUx')\n"
   ]
  }
 ],
 "metadata": {
  "kernelspec": {
   "display_name": "Python 3",
   "language": "python",
   "name": "python3"
  },
  "language_info": {
   "codemirror_mode": {
    "name": "ipython",
    "version": 3
   },
   "file_extension": ".py",
   "mimetype": "text/x-python",
   "name": "python",
   "nbconvert_exporter": "python",
   "pygments_lexer": "ipython3",
   "version": "3.6.13"
  }
 },
 "nbformat": 4,
 "nbformat_minor": 5
}
